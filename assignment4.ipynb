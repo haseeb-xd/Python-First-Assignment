{
 "cells": [
  {
   "cell_type": "code",
   "execution_count": 1,
   "metadata": {},
   "outputs": [
    {
     "name": "stdout",
     "output_type": "stream",
     "text": [
      "First name is: Haseeb\n",
      "Last name is: Ansari\n",
      "Age is: 19\n",
      "city is: Hyderabad\n",
      "{'first_name': 'Haseeb', 'last_name': 'Ansari', 'age': 19, 'city': 'Hyderabad'}\n"
     ]
    }
   ],
   "source": [
    "person= {\"first_name\": \"Haseeb\", \"last_name\": \"Ansari\", \"age\": 19, \"city\": \"Hyderabad\"}\n",
    "\n",
    "print(\"First name is:\",person[\"first_name\"])\n",
    "print(\"Last name is:\",person[\"last_name\"])\n",
    "print(\"Age is:\",person[\"age\"])\n",
    "print(\"city is:\",person[\"city\"])\n",
    "\n",
    "person.update( qualification= \"undergrad\")\n",
    "\n",
    "\n",
    "person[\"qualification\"]=\" high academic level\"\n",
    "\n",
    "\n",
    "del person[\"qualification\"]\n",
    "\n",
    "print(person)"
   ]
  },
  {
   "cell_type": "code",
   "execution_count": 2,
   "metadata": {},
   "outputs": [
    {
     "name": "stdout",
     "output_type": "stream",
     "text": [
      "Larkana is in Pakistan\n",
      "This city has a population of200000\n",
      "Fact is:Moen-jo-Daro is there\n",
      "Karachi is in Pakistan\n",
      "This city has a population of1000000\n",
      "Fact is: good biryani\n",
      "Lahore is in Pakistan\n",
      "This city has a population of999999\n",
      "Fact is:one of most polluted city\n"
     ]
    }
   ],
   "source": [
    "cities = {\n",
    "    'Larkana': {\n",
    "        'country': 'Pakistan',\n",
    "        'population': 200000,\n",
    "        'fact': 'Moen-jo-Daro is there',\n",
    "        },\n",
    "    'Karachi': {\n",
    "        'country': 'Pakistan',\n",
    "        'population': 1000000,\n",
    "        'fact': ' good biryani',\n",
    "        },\n",
    "    'Lahore': {\n",
    "        'country': 'Pakistan',\n",
    "        'population': 999999,\n",
    "        'fact': 'one of most polluted city',\n",
    "        }\n",
    "    }\n",
    "\n",
    "for city, city_info in cities.items():\n",
    "    country = city_info['country']\n",
    "    population = city_info['population']\n",
    "    fact = city_info['fact']\n",
    "\n",
    "    print(city.title() + \" is in \" + country)\n",
    "    print(\"This city has a population of\" + str(population))\n",
    "    print(\"Fact is:\" + fact ) "
   ]
  },
  {
   "cell_type": "code",
   "execution_count": 3,
   "metadata": {},
   "outputs": [
    {
     "name": "stdout",
     "output_type": "stream",
     "text": [
      "what is your age:5\n",
      "ticket is $10\n",
      "what is your age:2\n",
      "ticket is free\n",
      "what is your age:15\n",
      "ticket is $15\n",
      "what is your age:0\n",
      "loop terminated\n"
     ]
    }
   ],
   "source": [
    "def calculatePrice(age):\n",
    "    if age>0 and age<3:\n",
    "        print(\"ticket is free\")\n",
    "    elif age>=3 and age<=12:\n",
    "        print(\"ticket is $10\")\n",
    "    else:\n",
    "        print(\"ticket is $15\")\n",
    "        \n",
    "        \n",
    "age= int (input(\"what is your age:\"))\n",
    "\n",
    "while age!=0:\n",
    "    calculatePrice(age)\n",
    "    age= int (input(\"what is your age:\"))\n",
    "    \n",
    "    \n",
    "print(\"loop terminated\")\n"
   ]
  },
  {
   "cell_type": "code",
   "execution_count": 4,
   "metadata": {},
   "outputs": [
    {
     "name": "stdout",
     "output_type": "stream",
     "text": [
      "One of my favorite book is Alchemist\n"
     ]
    }
   ],
   "source": [
    "def favorite_book(title):\n",
    "    print(\"One of my favorite book is\",title)\n",
    "    \n",
    "    \n",
    "myBook=\"Alchemist\"\n",
    "favorite_book(myBook)"
   ]
  },
  {
   "cell_type": "code",
   "execution_count": 5,
   "metadata": {},
   "outputs": [
    {
     "name": "stdout",
     "output_type": "stream",
     "text": [
      "Enter the number: 15\n",
      "Hidden number is greater\n",
      "only  2 chances left\n",
      "Enter the number: 19\n",
      "Hidden number is greater\n",
      "only  1 chances left\n",
      "Enter the number: 20\n",
      "Hidden number is greater\n",
      "only  0 chances left\n",
      "you lost\n",
      "\n",
      " Hidden number was: 21\n"
     ]
    }
   ],
   "source": [
    "import random\n",
    "\n",
    "chances=3\n",
    "r= random.randint(1,30)\n",
    "\n",
    "while chances>0:\n",
    "    num=int(input(\"Enter the number: \"))\n",
    "    \n",
    "    \n",
    "         \n",
    "    if r==num:\n",
    "        print(\"wow, you guessed it correct\")\n",
    "    \n",
    "    if r>num:\n",
    "        print(\"Hidden number is greater\")\n",
    "        chances=chances-1\n",
    "        print(\"only \", chances,\"chances left\")\n",
    "        \n",
    "    if r<num:\n",
    "        print(\"Hidden number is smaller\")\n",
    "        chances=chances-1\n",
    "        print(\"only \", chances,\"chances left\")\n",
    "   \n",
    "        \n",
    "    if chances==0:\n",
    "        print(\"you lost\")\n",
    "        \n",
    "print(\"\\n Hidden number was:\",r)"
   ]
  },
  {
   "cell_type": "code",
   "execution_count": null,
   "metadata": {},
   "outputs": [],
   "source": []
  }
 ],
 "metadata": {
  "kernelspec": {
   "display_name": "Python 3",
   "language": "python",
   "name": "python3"
  },
  "language_info": {
   "codemirror_mode": {
    "name": "ipython",
    "version": 3
   },
   "file_extension": ".py",
   "mimetype": "text/x-python",
   "name": "python",
   "nbconvert_exporter": "python",
   "pygments_lexer": "ipython3",
   "version": "3.6.7"
  }
 },
 "nbformat": 4,
 "nbformat_minor": 2
}
