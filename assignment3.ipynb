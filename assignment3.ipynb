{
 "cells": [
  {
   "cell_type": "code",
   "execution_count": 2,
   "metadata": {},
   "outputs": [
    {
     "name": "stdout",
     "output_type": "stream",
     "text": [
      "Enter First Number: 7\n",
      "Enter Operator: ^\n",
      "Enter Second Number: 2\n",
      "power is:  49.0\n"
     ]
    }
   ],
   "source": [
    "## Q1\n",
    "\n",
    "num1= float(input(\"Enter First Number: \"))\n",
    "operator= input(\"Enter Operator: \")\n",
    "num2= float(input(\"Enter Second Number: \"))\n",
    "\n",
    "if operator=='+':\n",
    "    print(\"Sum is: \",num1+num2)\n",
    "elif operator=='-':\n",
    "    print(\"Subtraction is: \",num1-num2)\n",
    "elif operator=='*':\n",
    "    print(\"Multiplication is: \",num1*num2)\n",
    "elif operator=='/':\n",
    "    print(\"Division is: \",num1/num2)\n",
    "elif operator=='^' or operator=='**':\n",
    "    print(\"power is: \",num1**num2)\n",
    "\n",
    "\n"
   ]
  },
  {
   "cell_type": "code",
   "execution_count": 4,
   "metadata": {},
   "outputs": [
    {
     "name": "stdout",
     "output_type": "stream",
     "text": [
      "4\n",
      "2\n",
      "1\n",
      "4.232\n",
      "3\n"
     ]
    }
   ],
   "source": [
    "## Q2\n",
    "\n",
    "\n",
    "lst= [4,2,1,\"Haseeb\",4.232,\"Ahmed\", 3, \"Ansari\"]\n",
    "\n",
    "for i in lst:\n",
    "    if type(i) is int or type(i) is float :\n",
    "        print(str(i))\n",
    "        \n"
   ]
  },
  {
   "cell_type": "code",
   "execution_count": 8,
   "metadata": {},
   "outputs": [
    {
     "name": "stdout",
     "output_type": "stream",
     "text": [
      "{1: 'Haseeb', 3: 'Ansari', 2: 'Ahmed'}\n"
     ]
    }
   ],
   "source": [
    "## Q3\n",
    "\n",
    "myDi = {1: \"Haseeb\", 3:\"Ansari\"}\n",
    "myDi.update({2:\"Ahmed\"})\n",
    "print(myDi)\n",
    "\n"
   ]
  },
  {
   "cell_type": "code",
   "execution_count": 10,
   "metadata": {},
   "outputs": [
    {
     "name": "stdout",
     "output_type": "stream",
     "text": [
      "216\n"
     ]
    }
   ],
   "source": [
    "## Q4\n",
    "\n",
    "myDi= {1:23,2:42,3:51,4:100}\n",
    "print(sum(myDi.values()))"
   ]
  },
  {
   "cell_type": "code",
   "execution_count": 11,
   "metadata": {},
   "outputs": [
    {
     "name": "stdout",
     "output_type": "stream",
     "text": [
      "{1, 2, 3}\n"
     ]
    }
   ],
   "source": [
    "## Q5\n",
    "\n",
    "duplicates= set ({})\n",
    "myList = [3,1,2,4,5,7,2,1,0,3]\n",
    "\n",
    "for i in range(len(myList)):\n",
    "    for j in range(i+1, len(myList)):\n",
    "        if myList[i]==myList[j]:\n",
    "            duplicates.add(myList[i])\n",
    "            \n",
    "            \n",
    "print(duplicates)\n"
   ]
  },
  {
   "cell_type": "code",
   "execution_count": 12,
   "metadata": {},
   "outputs": [
    {
     "name": "stdout",
     "output_type": "stream",
     "text": [
      "Enter a Key: 5\n",
      "this is new key\n"
     ]
    }
   ],
   "source": [
    "## Q6\n",
    "\n",
    "x= int( input(\"Enter a Key: \") )\n",
    "myDi= {1:\"Haseeb\",2:\"Ahmed\",6:\"Ansari\"}\n",
    "\n",
    "if x in myDi:\n",
    "    print(\"Key already exists\")\n",
    "else:\n",
    "    print(\"this is new key\")\n"
   ]
  },
  {
   "cell_type": "code",
   "execution_count": null,
   "metadata": {},
   "outputs": [],
   "source": []
  }
 ],
 "metadata": {
  "kernelspec": {
   "display_name": "Python 3",
   "language": "python",
   "name": "python3"
  },
  "language_info": {
   "codemirror_mode": {
    "name": "ipython",
    "version": 3
   },
   "file_extension": ".py",
   "mimetype": "text/x-python",
   "name": "python",
   "nbconvert_exporter": "python",
   "pygments_lexer": "ipython3",
   "version": "3.6.7"
  }
 },
 "nbformat": 4,
 "nbformat_minor": 2
}
