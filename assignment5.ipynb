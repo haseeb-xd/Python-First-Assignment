{
 "cells": [
  {
   "cell_type": "code",
   "execution_count": 2,
   "metadata": {},
   "outputs": [
    {
     "name": "stdout",
     "output_type": "stream",
     "text": [
      "120\n"
     ]
    }
   ],
   "source": [
    "def fact(num):\n",
    "    \n",
    "    sum=1\n",
    "    while num>0:\n",
    "        sum*=num\n",
    "        num=num-1\n",
    "        \n",
    "    return sum\n",
    "    \n",
    "    \n",
    "\n",
    "myfact=fact(5)\n",
    "print(myfact)\n",
    "       "
   ]
  },
  {
   "cell_type": "code",
   "execution_count": 15,
   "metadata": {},
   "outputs": [
    {
     "name": "stdout",
     "output_type": "stream",
     "text": [
      "UpperCase: 4 LowerCase: 7\n"
     ]
    }
   ],
   "source": [
    "\n",
    "\n",
    "def count_upper_lower(string):\n",
    "    countU=0\n",
    "    countL=0\n",
    "    for i in string:\n",
    "          if(i.islower()):\n",
    "                countL=countL+1\n",
    "          elif(i.isupper()):\n",
    "                countU=countU+1\n",
    "                \n",
    "    print(\"UpperCase:\",countU,\"LowerCase:\",countL)\n",
    "\n",
    "   \n",
    "\n",
    "    \n",
    "count_upper_lower(\"HaseeB AhmEd\")\n"
   ]
  },
  {
   "cell_type": "code",
   "execution_count": 16,
   "metadata": {},
   "outputs": [
    {
     "name": "stdout",
     "output_type": "stream",
     "text": [
      "4\n",
      "2\n",
      "8\n",
      "10\n"
     ]
    }
   ],
   "source": [
    "\n",
    "def evens(lst):\n",
    "    \n",
    "    for x in lst:\n",
    "        if x%2==0:\n",
    "            print(x)\n",
    "            \n",
    "\n",
    "list1=[1,4,2,8,3,5,7,10]\n",
    "\n",
    "evens(list1)"
   ]
  },
  {
   "cell_type": "code",
   "execution_count": 18,
   "metadata": {},
   "outputs": [
    {
     "name": "stdout",
     "output_type": "stream",
     "text": [
      "It is palindrome\n"
     ]
    }
   ],
   "source": [
    "def palindrome_or_not(myString):\n",
    "    \n",
    "    s=\"\"\n",
    "    for x in reversed(range(len(myString))):\n",
    "        s=s+myString[x]\n",
    "        \n",
    "        \n",
    "    if s==myString:\n",
    "        print(\"It is palindrome\")\n",
    "    else:\n",
    "        print(\"not a palindrome\")\n",
    "        \n",
    "palindrome_or_not(\"madam\")"
   ]
  },
  {
   "cell_type": "code",
   "execution_count": 19,
   "metadata": {},
   "outputs": [
    {
     "name": "stdout",
     "output_type": "stream",
     "text": [
      "It is prime\n"
     ]
    }
   ],
   "source": [
    "def check_prime(num):\n",
    "    \n",
    "    count=0\n",
    "    for x in range(1,num+1):\n",
    "        \n",
    "        if num%x==0:\n",
    "            count=count+1\n",
    "            \n",
    "    if count==2:\n",
    "        print(\"It is prime\")\n",
    "    else:\n",
    "        print(\"not a prime\")\n",
    "        \n",
    "        \n",
    "check_prime(17)"
   ]
  },
  {
   "cell_type": "code",
   "execution_count": 20,
   "metadata": {},
   "outputs": [
    {
     "name": "stdout",
     "output_type": "stream",
     "text": [
      "Chocolates\n",
      "toys\n",
      "vegetables\n",
      "fruits\n"
     ]
    }
   ],
   "source": [
    "def print_shoppinglist(*items):\n",
    "    \n",
    "    for x in items:\n",
    "        print(x)\n",
    "        \n",
    "        \n",
    "\n",
    "\n",
    "print_shoppinglist(\"Chocolates\",\"toys\",\"vegetables\",\"fruits\")"
   ]
  },
  {
   "cell_type": "code",
   "execution_count": null,
   "metadata": {},
   "outputs": [],
   "source": []
  }
 ],
 "metadata": {
  "kernelspec": {
   "display_name": "Python 3",
   "language": "python",
   "name": "python3"
  },
  "language_info": {
   "codemirror_mode": {
    "name": "ipython",
    "version": 3
   },
   "file_extension": ".py",
   "mimetype": "text/x-python",
   "name": "python",
   "nbconvert_exporter": "python",
   "pygments_lexer": "ipython3",
   "version": "3.6.7"
  }
 },
 "nbformat": 4,
 "nbformat_minor": 2
}
