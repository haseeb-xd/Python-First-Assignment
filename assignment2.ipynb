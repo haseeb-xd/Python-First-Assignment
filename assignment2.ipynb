{
 "cells": [
  {
   "cell_type": "code",
   "execution_count": 1,
   "metadata": {},
   "outputs": [
    {
     "name": "stdout",
     "output_type": "stream",
     "text": [
      "Enter Marks of English: 85\n",
      "Enter Marks of Biology: 75\n",
      "Enter Marks of Physics:50\n",
      "Enter Marks of Maths:55\n",
      "Enter Marks of Chemistry:70\n",
      "C Grade with 67.0  %\n"
     ]
    }
   ],
   "source": [
    "english= int(input(\"Enter Marks of English: \"))\n",
    "biology= int(input(\"Enter Marks of Biology: \"))\n",
    "physics= int(input(\"Enter Marks of Physics:\"))\n",
    "maths= int(input(\"Enter Marks of Maths:\"))\n",
    "chemistry= int(input(\"Enter Marks of Chemistry:\"))\n",
    "\n",
    "sum= english+biology+physics+maths+chemistry\n",
    "\n",
    "percentage= sum/5\n",
    "\n",
    "\n",
    "\n",
    "if percentage>=85:\n",
    "    print(\"A Grade with\",percentage, \" %\")\n",
    "    \n",
    "elif percentage>=70 and percentage<85:\n",
    "     print(\"B Grade with\",percentage, \" %\")\n",
    "    \n",
    "elif percentage>=60 and percentage<70:\n",
    "     print(\"C Grade with\",percentage, \" %\")\n",
    "    \n",
    "elif percentage>=50 and percentage<60:\n",
    "     print(\"D Grade with\",percentage, \" %\")\n",
    "    \n",
    "else:\n",
    "    print(\"FAIL\")\n",
    "    "
   ]
  },
  {
   "cell_type": "code",
   "execution_count": 2,
   "metadata": {},
   "outputs": [
    {
     "name": "stdout",
     "output_type": "stream",
     "text": [
      "Enter a number: 85\n",
      "Number is odd\n"
     ]
    }
   ],
   "source": [
    "num= int(input(\"Enter a number: \"))\n",
    "\n",
    "if num%2==0:\n",
    "    print(\"Number is even\")\n",
    "    \n",
    "else:\n",
    "    print(\"Number is odd\")"
   ]
  },
  {
   "cell_type": "code",
   "execution_count": 3,
   "metadata": {},
   "outputs": [
    {
     "name": "stdout",
     "output_type": "stream",
     "text": [
      "3\n"
     ]
    }
   ],
   "source": [
    "names= [\"Ali\",\"Hamza\",\"Sami\"]\n",
    "print(len(names))\n"
   ]
  },
  {
   "cell_type": "code",
   "execution_count": 1,
   "metadata": {},
   "outputs": [
    {
     "name": "stdout",
     "output_type": "stream",
     "text": [
      "sum is:  101\n"
     ]
    }
   ],
   "source": [
    "numbers= [32,24,14,23,6,2]\n",
    "print(\"sum is: \", sum(numbers) )"
   ]
  },
  {
   "cell_type": "code",
   "execution_count": 2,
   "metadata": {},
   "outputs": [
    {
     "name": "stdout",
     "output_type": "stream",
     "text": [
      "42\n"
     ]
    }
   ],
   "source": [
    "nums= [32,24,14,42,1]\n",
    "print(max(nums))\n"
   ]
  },
  {
   "cell_type": "code",
   "execution_count": 3,
   "metadata": {},
   "outputs": [
    {
     "name": "stdout",
     "output_type": "stream",
     "text": [
      "1\n",
      "1\n",
      "2\n",
      "3\n"
     ]
    }
   ],
   "source": [
    "a = [1, 1, 2, 3, 5, 8, 13, 21, 34, 55, 89]\n",
    "\n",
    "for i in a:\n",
    "    if i<5:\n",
    "        print(i)\n"
   ]
  },
  {
   "cell_type": "code",
   "execution_count": null,
   "metadata": {},
   "outputs": [],
   "source": []
  }
 ],
 "metadata": {
  "kernelspec": {
   "display_name": "Python 3",
   "language": "python",
   "name": "python3"
  },
  "language_info": {
   "codemirror_mode": {
    "name": "ipython",
    "version": 3
   },
   "file_extension": ".py",
   "mimetype": "text/x-python",
   "name": "python",
   "nbconvert_exporter": "python",
   "pygments_lexer": "ipython3",
   "version": "3.6.7"
  }
 },
 "nbformat": 4,
 "nbformat_minor": 2
}
