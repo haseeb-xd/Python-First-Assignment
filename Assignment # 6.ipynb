{
 "cells": [
  {
   "cell_type": "markdown",
   "metadata": {},
   "source": [
    "# Q1. Define Object Oriented Programming Language?"
   ]
  },
  {
   "cell_type": "markdown",
   "metadata": {},
   "source": [
    "\n",
    "\n",
    "Object-oriented programming language is a high-level computer programming language that implements objects and their associated procedures within the programming context to create software programs.\n",
    "\n",
    "Object-oriented programming language uses an object-oriented programming technique that binds related data and functions into an object and encourages reuse of these objects within the same and other programs.\n",
    "\n",
    "Object-oriented language typically supports the following features, at minimum:\n",
    "The ability to create classes and their associated objects\n",
    "1. Encapsulation\n",
    "2. Inheritance"
   ]
  },
  {
   "cell_type": "markdown",
   "metadata": {},
   "source": [
    "# Q2. List down the Benefits of OOP?"
   ]
  },
  {
   "cell_type": "markdown",
   "metadata": {},
   "source": [
    "Simplicity: software objects model real-world objects, so the complexity is reduced and the program structure is very clear.\n",
    "    \n",
    "Modularity: each object forms a separate entity whose internal workings are decoupled from other parts of the system.\n",
    "    \n",
    "Modifiability: it is easy to make minor changes in the data representation or the procedures in an OO program. Changes inside a class do not affect any other part of a program since the only public interface that the external world has to a class is through the use of methods.\n",
    "    \n",
    "Extensibility: adding new features or responding to changing operating environments can be solved by introducing a few new objects and modifying some existing ones\n",
    "    \n",
    "Maintainability: objects can be maintained separately, making locating and fixing problems easier.\n",
    "    \n",
    "Re-usability: objects can be reused in different programs."
   ]
  },
  {
   "cell_type": "markdown",
   "metadata": {},
   "source": [
    "# Q3. Differentiate between function and method?"
   ]
  },
  {
   "cell_type": "markdown",
   "metadata": {},
   "source": [
    "### Methods:\n",
    "Method is called by its name, but it is associated to an object (dependent).\n",
    "A method is implicitly passed the object on which it is invoked.\n",
    "It may or may not return any data.\n",
    "A method can operate on the data (instance variables) that is contained by the corresponding class"
   ]
  },
  {
   "cell_type": "markdown",
   "metadata": {},
   "source": [
    "### Function:\n",
    "Function is block of code that is also called by its name. (independent)\n",
    "The function can have different parameters or may not have any at all. If any data (parameters) are passed, they are passed explicitly.\n",
    "It may or may not return any data.\n",
    "Function does not deal with Class and its instance concept.\n"
   ]
  },
  {
   "cell_type": "markdown",
   "metadata": {},
   "source": [
    "# Q4. Define the following terms:"
   ]
  },
  {
   "cell_type": "markdown",
   "metadata": {},
   "source": [
    "### Class:\n",
    "a class is a blueprint for creating objects (a particular data structure), providing initial values for state (member variables or attributes), and implementations of behavior (member functions or methods)."
   ]
  },
  {
   "cell_type": "markdown",
   "metadata": {},
   "source": [
    "### Object:\n",
    " A unique instance of a data structure that's defined by its class. An object comprises both data members (class variables and instance variables) and methods."
   ]
  },
  {
   "cell_type": "markdown",
   "metadata": {},
   "source": [
    "### Attribute:\n",
    "Attributes are data stored inside a class or instance and represent the state or quality of the class or instance. In short, attributes store information about the instance."
   ]
  },
  {
   "cell_type": "markdown",
   "metadata": {},
   "source": [
    "### Behaviour\n",
    "BEHAVIOUR of any object is 'it's explicit and external interacting features, with the environment.\n",
    "To define an object's behavior, you create methods."
   ]
  },
  {
   "cell_type": "markdown",
   "metadata": {},
   "source": [
    "# Q5. Write a code in python in which create a class named it Car which have 5 attributes such like (model, color and name etc.) and 3 methods. And create 5 object instance from that class."
   ]
  },
  {
   "cell_type": "code",
   "execution_count": 19,
   "metadata": {},
   "outputs": [
    {
     "name": "stdout",
     "output_type": "stream",
     "text": [
      "************\n",
      "First Car:\n",
      "*************\n",
      "name :  Corolla XLI\n",
      "Color :  Black\n",
      "Model :  2010\n",
      "Company :  Corolla\n",
      "Price :  1200000.0\n",
      "new price  1150000.0\n",
      "\n",
      "************\n",
      "Second Car:\n",
      "*************\n",
      "name :  Honda Civic\n",
      "Color :  White\n",
      "Model :  2012\n",
      "Company :  Honda\n",
      "Price :  1800000.0\n",
      "new color  Maroon\n",
      "\n",
      "************\n",
      "Third Car:\n",
      "*************\n",
      "name :  Alto\n",
      "Color :  Blue\n",
      "Model :  2015\n",
      "Company :  Suzuki\n",
      "Price :  1000000.0\n",
      "new model  2016\n",
      "\n",
      "************\n",
      "Forth Car:\n",
      "*************\n",
      "name :  Cultus\n",
      "Color :  White\n",
      "Model :  2018\n",
      "Company :  Suzuki\n",
      "Price :  1500000.0\n",
      "new price  180000.0\n",
      "\n",
      "************\n",
      "Fifth Car:\n",
      "*************\n",
      "name :  Corolla GLI\n",
      "Color :  Silver\n",
      "Model :  2019\n",
      "Company :  Corolla\n",
      "Price :  2400000.0\n"
     ]
    }
   ],
   "source": [
    "class Car():\n",
    "    def __init__(self,name,color,model,companyName,price):\n",
    "        self.model=model;\n",
    "        self.color=color\n",
    "        self.name=name\n",
    "        self.companyName=companyName\n",
    "        self.price=price\n",
    "    \n",
    "    def updatePrice(self,newPrice):\n",
    "        self.price=newPrice\n",
    "        \n",
    "    def updateColor(self,newColor):\n",
    "        self.color=newColor\n",
    "        \n",
    "    def changeModel(self,newModel):\n",
    "        self.model=newModel\n",
    "        \n",
    "def display(car):\n",
    "    print(\"name : \" ,car.name)\n",
    "    print(\"Color : \" ,car.color)\n",
    "    print(\"Model : \" ,car.model)\n",
    "    print(\"Company : \",car.companyName)\n",
    "    print(\"Price : \",car.price)\n",
    "\n",
    "        \n",
    "print(\"************\\nFirst Car:\\n*************\")   \n",
    "car1=Car(\"Corolla XLI\",\"Black\",\"2010\",\"Corolla\",1200000.0)\n",
    "\n",
    "display(car1)\n",
    "\n",
    "car1.updatePrice(1150000.0)\n",
    "print(\"new price \",car1.price)\n",
    "\n",
    "\n",
    "\n",
    "print(\"\\n************\\nSecond Car:\\n*************\")   \n",
    "car2=Car(\"Honda Civic\",\"White\",\"2012\",\"Honda\",1800000.0)\n",
    "\n",
    "display(car2)\n",
    "\n",
    "car2.updateColor(\"Maroon\")\n",
    "print(\"new color \",car2.color)\n",
    "\n",
    "\n",
    "\n",
    "print(\"\\n************\\nThird Car:\\n*************\")   \n",
    "car3=Car(\"Alto\",\"Blue\",\"2015\",\"Suzuki\",1000000.0)\n",
    "\n",
    "display(car3)\n",
    "\n",
    "car3.changeModel(\"2016\")\n",
    "print(\"new model \",car3.model)\n",
    "\n",
    "\n",
    "\n",
    "print(\"\\n************\\nForth Car:\\n*************\")   \n",
    "car4=Car(\"Cultus\",\"White\",\"2018\",\"Suzuki\",1500000.0)\n",
    "\n",
    "display(car4)\n",
    "\n",
    "car4.updatePrice(180000.0)\n",
    "print(\"new price \",car4.price)\n",
    "\n",
    "\n",
    "\n",
    "\n",
    "print(\"\\n************\\nFifth Car:\\n*************\")   \n",
    "car5=Car(\"Corolla GLI\",\"Silver\",\"2019\",\"Corolla\",2400000.0)\n",
    "\n",
    "display(car5)\n",
    "\n",
    "\n"
   ]
  },
  {
   "cell_type": "code",
   "execution_count": null,
   "metadata": {},
   "outputs": [],
   "source": []
  },
  {
   "cell_type": "code",
   "execution_count": null,
   "metadata": {},
   "outputs": [],
   "source": []
  },
  {
   "cell_type": "code",
   "execution_count": null,
   "metadata": {},
   "outputs": [],
   "source": []
  }
 ],
 "metadata": {
  "kernelspec": {
   "display_name": "Python 3",
   "language": "python",
   "name": "python3"
  },
  "language_info": {
   "codemirror_mode": {
    "name": "ipython",
    "version": 3
   },
   "file_extension": ".py",
   "mimetype": "text/x-python",
   "name": "python",
   "nbconvert_exporter": "python",
   "pygments_lexer": "ipython3",
   "version": "3.7.4"
  }
 },
 "nbformat": 4,
 "nbformat_minor": 2
}
